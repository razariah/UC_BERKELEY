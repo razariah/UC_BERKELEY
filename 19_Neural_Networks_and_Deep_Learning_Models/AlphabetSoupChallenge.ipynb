{
 "cells": [
  {
   "cell_type": "code",
   "execution_count": 2,
   "metadata": {},
   "outputs": [],
   "source": [
    "# Import our dependencies\n",
    "import pandas as pd\n",
    "from matplotlib import pyplot as plt\n",
    "import tensorflow as tf\n",
    "from sklearn.preprocessing import OneHotEncoder, StandardScaler\n",
    "from sklearn.model_selection import train_test_split\n",
    "from sklearn.metrics import accuracy_score\n",
    "%matplotlib inline "
   ]
  },
  {
   "cell_type": "code",
   "execution_count": 3,
   "metadata": {},
   "outputs": [
    {
     "data": {
      "text/html": [
       "<div>\n",
       "<style scoped>\n",
       "    .dataframe tbody tr th:only-of-type {\n",
       "        vertical-align: middle;\n",
       "    }\n",
       "\n",
       "    .dataframe tbody tr th {\n",
       "        vertical-align: top;\n",
       "    }\n",
       "\n",
       "    .dataframe thead th {\n",
       "        text-align: right;\n",
       "    }\n",
       "</style>\n",
       "<table border=\"1\" class=\"dataframe\">\n",
       "  <thead>\n",
       "    <tr style=\"text-align: right;\">\n",
       "      <th></th>\n",
       "      <th>EIN</th>\n",
       "      <th>NAME</th>\n",
       "      <th>APPLICATION_TYPE</th>\n",
       "      <th>AFFILIATION</th>\n",
       "      <th>CLASSIFICATION</th>\n",
       "      <th>USE_CASE</th>\n",
       "      <th>ORGANIZATION</th>\n",
       "      <th>STATUS</th>\n",
       "      <th>INCOME_AMT</th>\n",
       "      <th>SPECIAL_CONSIDERATIONS</th>\n",
       "      <th>ASK_AMT</th>\n",
       "      <th>IS_SUCCESSFUL</th>\n",
       "    </tr>\n",
       "  </thead>\n",
       "  <tbody>\n",
       "    <tr>\n",
       "      <th>0</th>\n",
       "      <td>10520599</td>\n",
       "      <td>BLUE KNIGHTS MOTORCYCLE CLUB</td>\n",
       "      <td>T10</td>\n",
       "      <td>Independent</td>\n",
       "      <td>C1000</td>\n",
       "      <td>ProductDev</td>\n",
       "      <td>Association</td>\n",
       "      <td>1</td>\n",
       "      <td>0</td>\n",
       "      <td>N</td>\n",
       "      <td>5000</td>\n",
       "      <td>1</td>\n",
       "    </tr>\n",
       "    <tr>\n",
       "      <th>1</th>\n",
       "      <td>10531628</td>\n",
       "      <td>AMERICAN CHESAPEAKE CLUB CHARITABLE TR</td>\n",
       "      <td>T3</td>\n",
       "      <td>Independent</td>\n",
       "      <td>C2000</td>\n",
       "      <td>Preservation</td>\n",
       "      <td>Co-operative</td>\n",
       "      <td>1</td>\n",
       "      <td>1-9999</td>\n",
       "      <td>N</td>\n",
       "      <td>108590</td>\n",
       "      <td>1</td>\n",
       "    </tr>\n",
       "    <tr>\n",
       "      <th>2</th>\n",
       "      <td>10547893</td>\n",
       "      <td>ST CLOUD PROFESSIONAL FIREFIGHTERS</td>\n",
       "      <td>T5</td>\n",
       "      <td>CompanySponsored</td>\n",
       "      <td>C3000</td>\n",
       "      <td>ProductDev</td>\n",
       "      <td>Association</td>\n",
       "      <td>1</td>\n",
       "      <td>0</td>\n",
       "      <td>N</td>\n",
       "      <td>5000</td>\n",
       "      <td>0</td>\n",
       "    </tr>\n",
       "  </tbody>\n",
       "</table>\n",
       "</div>"
      ],
      "text/plain": [
       "        EIN                                    NAME APPLICATION_TYPE  \\\n",
       "0  10520599            BLUE KNIGHTS MOTORCYCLE CLUB              T10   \n",
       "1  10531628  AMERICAN CHESAPEAKE CLUB CHARITABLE TR               T3   \n",
       "2  10547893      ST CLOUD PROFESSIONAL FIREFIGHTERS               T5   \n",
       "\n",
       "        AFFILIATION CLASSIFICATION      USE_CASE  ORGANIZATION  STATUS  \\\n",
       "0       Independent          C1000    ProductDev   Association       1   \n",
       "1       Independent          C2000  Preservation  Co-operative       1   \n",
       "2  CompanySponsored          C3000    ProductDev   Association       1   \n",
       "\n",
       "  INCOME_AMT SPECIAL_CONSIDERATIONS  ASK_AMT  IS_SUCCESSFUL  \n",
       "0          0                      N     5000              1  \n",
       "1     1-9999                      N   108590              1  \n",
       "2          0                      N     5000              0  "
      ]
     },
     "execution_count": 3,
     "metadata": {},
     "output_type": "execute_result"
    }
   ],
   "source": [
    "# Import our input dataset\n",
    "df = pd.read_csv('charity_data.csv')\n",
    "df.head(n=3)"
   ]
  },
  {
   "cell_type": "code",
   "execution_count": 3,
   "metadata": {},
   "outputs": [
    {
     "data": {
      "text/plain": [
       "((34299, 12),\n",
       " ['EIN',\n",
       "  'NAME',\n",
       "  'APPLICATION_TYPE',\n",
       "  'AFFILIATION',\n",
       "  'CLASSIFICATION',\n",
       "  'USE_CASE',\n",
       "  'ORGANIZATION',\n",
       "  'STATUS',\n",
       "  'INCOME_AMT',\n",
       "  'SPECIAL_CONSIDERATIONS',\n",
       "  'ASK_AMT',\n",
       "  'IS_SUCCESSFUL'])"
      ]
     },
     "execution_count": 3,
     "metadata": {},
     "output_type": "execute_result"
    }
   ],
   "source": [
    "df.shape, df.columns.tolist()"
   ]
  },
  {
   "cell_type": "code",
   "execution_count": 4,
   "metadata": {},
   "outputs": [
    {
     "data": {
      "text/plain": [
       "N    34272\n",
       "Y       27\n",
       "Name: SPECIAL_CONSIDERATIONS, dtype: int64"
      ]
     },
     "execution_count": 4,
     "metadata": {},
     "output_type": "execute_result"
    }
   ],
   "source": [
    "df['SPECIAL_CONSIDERATIONS'].value_counts()"
   ]
  },
  {
   "cell_type": "code",
   "execution_count": 5,
   "metadata": {},
   "outputs": [
    {
     "data": {
      "text/plain": [
       "1    34294\n",
       "0        5\n",
       "Name: STATUS, dtype: int64"
      ]
     },
     "execution_count": 5,
     "metadata": {},
     "output_type": "execute_result"
    }
   ],
   "source": [
    "df['STATUS'].value_counts()"
   ]
  },
  {
   "cell_type": "markdown",
   "metadata": {},
   "source": [
    "### Data Model\n",
    "- IS_SUCCESSFUL will be target for my model\n",
    "- EIN, NAME should be removed from the input data and the rest variables except IS_SUCCESSFUL will be features for my model\n",
    "- SPECIAL_CONSIDERATIONS, and STATUS should also be dropped as each of them have a majority of one value, which will not add values for learning"
   ]
  },
  {
   "cell_type": "markdown",
   "metadata": {},
   "source": [
    "#### Preprocessing"
   ]
  },
  {
   "cell_type": "code",
   "execution_count": 4,
   "metadata": {},
   "outputs": [
    {
     "data": {
      "text/html": [
       "<div>\n",
       "<style scoped>\n",
       "    .dataframe tbody tr th:only-of-type {\n",
       "        vertical-align: middle;\n",
       "    }\n",
       "\n",
       "    .dataframe tbody tr th {\n",
       "        vertical-align: top;\n",
       "    }\n",
       "\n",
       "    .dataframe thead th {\n",
       "        text-align: right;\n",
       "    }\n",
       "</style>\n",
       "<table border=\"1\" class=\"dataframe\">\n",
       "  <thead>\n",
       "    <tr style=\"text-align: right;\">\n",
       "      <th></th>\n",
       "      <th>APPLICATION_TYPE</th>\n",
       "      <th>AFFILIATION</th>\n",
       "      <th>CLASSIFICATION</th>\n",
       "      <th>USE_CASE</th>\n",
       "      <th>ORGANIZATION</th>\n",
       "      <th>INCOME_AMT</th>\n",
       "      <th>ASK_AMT</th>\n",
       "      <th>IS_SUCCESSFUL</th>\n",
       "    </tr>\n",
       "  </thead>\n",
       "  <tbody>\n",
       "    <tr>\n",
       "      <th>0</th>\n",
       "      <td>T10</td>\n",
       "      <td>Independent</td>\n",
       "      <td>C1000</td>\n",
       "      <td>ProductDev</td>\n",
       "      <td>Association</td>\n",
       "      <td>0</td>\n",
       "      <td>5000</td>\n",
       "      <td>1</td>\n",
       "    </tr>\n",
       "    <tr>\n",
       "      <th>1</th>\n",
       "      <td>T3</td>\n",
       "      <td>Independent</td>\n",
       "      <td>C2000</td>\n",
       "      <td>Preservation</td>\n",
       "      <td>Co-operative</td>\n",
       "      <td>1-9999</td>\n",
       "      <td>108590</td>\n",
       "      <td>1</td>\n",
       "    </tr>\n",
       "    <tr>\n",
       "      <th>2</th>\n",
       "      <td>T5</td>\n",
       "      <td>CompanySponsored</td>\n",
       "      <td>C3000</td>\n",
       "      <td>ProductDev</td>\n",
       "      <td>Association</td>\n",
       "      <td>0</td>\n",
       "      <td>5000</td>\n",
       "      <td>0</td>\n",
       "    </tr>\n",
       "  </tbody>\n",
       "</table>\n",
       "</div>"
      ],
      "text/plain": [
       "  APPLICATION_TYPE       AFFILIATION CLASSIFICATION      USE_CASE  \\\n",
       "0              T10       Independent          C1000    ProductDev   \n",
       "1               T3       Independent          C2000  Preservation   \n",
       "2               T5  CompanySponsored          C3000    ProductDev   \n",
       "\n",
       "   ORGANIZATION INCOME_AMT  ASK_AMT  IS_SUCCESSFUL  \n",
       "0   Association          0     5000              1  \n",
       "1  Co-operative     1-9999   108590              1  \n",
       "2   Association          0     5000              0  "
      ]
     },
     "execution_count": 4,
     "metadata": {},
     "output_type": "execute_result"
    }
   ],
   "source": [
    "# Remove useless variables\n",
    "df.drop(['EIN', 'NAME', 'SPECIAL_CONSIDERATIONS', 'STATUS'], axis=1, inplace=True)\n",
    "df.head(n=3)"
   ]
  },
  {
   "cell_type": "code",
   "execution_count": 5,
   "metadata": {},
   "outputs": [],
   "source": [
    "# Generate our categorical variable list\n",
    "cat = df.dtypes[df.dtypes == \"object\"].index.tolist()"
   ]
  },
  {
   "cell_type": "code",
   "execution_count": 6,
   "metadata": {},
   "outputs": [
    {
     "data": {
      "text/plain": [
       "APPLICATION_TYPE    17\n",
       "AFFILIATION          6\n",
       "CLASSIFICATION      71\n",
       "USE_CASE             5\n",
       "ORGANIZATION         4\n",
       "INCOME_AMT           9\n",
       "dtype: int64"
      ]
     },
     "execution_count": 6,
     "metadata": {},
     "output_type": "execute_result"
    }
   ],
   "source": [
    "# Check the number of unique values in each column\n",
    "df[cat].nunique()"
   ]
  },
  {
   "cell_type": "code",
   "execution_count": 8,
   "metadata": {},
   "outputs": [
    {
     "data": {
      "text/plain": [
       "T3     27037\n",
       "T4      1542\n",
       "T6      1216\n",
       "T5      1173\n",
       "T19     1065\n",
       "T8       737\n",
       "T7       725\n",
       "T10      528\n",
       "T9       156\n",
       "T13       66\n",
       "T12       27\n",
       "T2        16\n",
       "T25        3\n",
       "T14        3\n",
       "T15        2\n",
       "T29        2\n",
       "T17        1\n",
       "Name: APPLICATION_TYPE, dtype: int64"
      ]
     },
     "execution_count": 8,
     "metadata": {},
     "output_type": "execute_result"
    }
   ],
   "source": [
    "# Bucketing rare categorical variables\n",
    "app_type_counts = df['APPLICATION_TYPE'].value_counts()\n",
    "app_type_counts"
   ]
  },
  {
   "cell_type": "code",
   "execution_count": 9,
   "metadata": {},
   "outputs": [
    {
     "data": {
      "text/plain": [
       "<AxesSubplot:ylabel='Density'>"
      ]
     },
     "execution_count": 9,
     "metadata": {},
     "output_type": "execute_result"
    },
    {
     "data": {
      "image/png": "[encoded data removed]",
      "text/plain": [
       "<Figure size 432x288 with 1 Axes>"
      ]
     },
     "metadata": {
      "needs_background": "light"
     },
     "output_type": "display_data"
    }
   ],
   "source": [
    "app_type_counts.plot.density()"
   ]
  },
  {
   "cell_type": "markdown",
   "metadata": {},
   "source": [
    "#### Arbituarily choose value counts cutoff at 500 to bin values to achieve roughly even distribution"
   ]
  },
  {
   "cell_type": "code",
   "execution_count": 10,
   "metadata": {
    "scrolled": true
   },
   "outputs": [
    {
     "data": {
      "text/plain": [
       "T3       27037\n",
       "T4        1542\n",
       "T6        1216\n",
       "T5        1173\n",
       "T19       1065\n",
       "T8         737\n",
       "T7         725\n",
       "T10        528\n",
       "Other      276\n",
       "Name: APPLICATION_TYPE, dtype: int64"
      ]
     },
     "execution_count": 10,
     "metadata": {},
     "output_type": "execute_result"
    }
   ],
   "source": [
    "# Determine which values to replace\n",
    "replace_app_type = list(app_type_counts[app_type_counts < 500].index)\n",
    "\n",
    "# Replace in DataFrame\n",
    "for app_type in replace_app_type:\n",
    "    df['APPLICATION_TYPE'] = df['APPLICATION_TYPE'].replace(app_type,\"Other\")\n",
    "\n",
    "\n",
    "# Check to make sure binning was successful\n",
    "df['APPLICATION_TYPE'].value_counts()"
   ]
  },
  {
   "cell_type": "code",
   "execution_count": 11,
   "metadata": {},
   "outputs": [
    {
     "data": {
      "text/plain": [
       "C1000    17326\n",
       "C2000     6074\n",
       "C1200     4837\n",
       "C3000     1918\n",
       "C2100     1883\n",
       "         ...  \n",
       "C1820        1\n",
       "C1370        1\n",
       "C2500        1\n",
       "C2190        1\n",
       "C1580        1\n",
       "Name: CLASSIFICATION, Length: 71, dtype: int64"
      ]
     },
     "execution_count": 11,
     "metadata": {},
     "output_type": "execute_result"
    }
   ],
   "source": [
    "classification_counts = df['CLASSIFICATION'].value_counts()\n",
    "classification_counts"
   ]
  },
  {
   "cell_type": "code",
   "execution_count": 12,
   "metadata": {},
   "outputs": [
    {
     "data": {
      "image/png": "[encoded data removed]",
      "text/plain": [
       "<Figure size 432x288 with 1 Axes>"
      ]
     },
     "metadata": {
      "needs_background": "light"
     },
     "output_type": "display_data"
    }
   ],
   "source": [
    "import numpy as np\n",
    "fig, ax = plt.subplots()\n",
    "np.log2(classification_counts).plot.density()\n",
    "ax.grid()"
   ]
  },
  {
   "cell_type": "code",
   "execution_count": 13,
   "metadata": {},
   "outputs": [
    {
     "data": {
      "text/plain": [
       "C7000    777\n",
       "C1700    287\n",
       "C4000    194\n",
       "C5000    116\n",
       "C1270    114\n",
       "C2700    104\n",
       "Name: CLASSIFICATION, dtype: int64"
      ]
     },
     "execution_count": 13,
     "metadata": {},
     "output_type": "execute_result"
    }
   ],
   "source": [
    "classification_counts[(classification_counts<1000) & (classification_counts> 100)]"
   ]
  },
  {
   "cell_type": "markdown",
   "metadata": {},
   "source": [
    "##### Decide to choose value counts cutoff at 500 to bin values"
   ]
  },
  {
   "cell_type": "code",
   "execution_count": 14,
   "metadata": {},
   "outputs": [
    {
     "data": {
      "text/plain": [
       "C1000    17326\n",
       "C2000     6074\n",
       "C1200     4837\n",
       "C3000     1918\n",
       "C2100     1883\n",
       "Other     1484\n",
       "C7000      777\n",
       "Name: CLASSIFICATION, dtype: int64"
      ]
     },
     "execution_count": 14,
     "metadata": {},
     "output_type": "execute_result"
    }
   ],
   "source": [
    "# Determine which values to replace\n",
    "replace_classification = list(classification_counts[classification_counts < 500].index)\n",
    "\n",
    "# Replace in DataFrame\n",
    "for cls in replace_classification:\n",
    "    df['CLASSIFICATION'] = df['CLASSIFICATION'].replace(cls,\"Other\")\n",
    "\n",
    "\n",
    "# Check to make sure binning was successful\n",
    "df['CLASSIFICATION'].value_counts()"
   ]
  },
  {
   "cell_type": "code",
   "execution_count": 15,
   "metadata": {},
   "outputs": [
    {
     "data": {
      "text/plain": [
       "<AxesSubplot:ylabel='Density'>"
      ]
     },
     "execution_count": 15,
     "metadata": {},
     "output_type": "execute_result"
    },
    {
     "data": {
      "image/png": "[encoded data removed]",
      "text/plain": [
       "<Figure size 432x288 with 1 Axes>"
      ]
     },
     "metadata": {
      "needs_background": "light"
     },
     "output_type": "display_data"
    }
   ],
   "source": [
    "np.log2(df['CLASSIFICATION'].value_counts()).plot.density()"
   ]
  },
  {
   "cell_type": "markdown",
   "metadata": {},
   "source": [
    "#### Separate features and targets"
   ]
  },
  {
   "cell_type": "markdown",
   "metadata": {},
   "source": [
    "#### OneHot encoding categorical features"
   ]
  },
  {
   "cell_type": "code",
   "execution_count": 16,
   "metadata": {},
   "outputs": [
    {
     "data": {
      "text/html": [
       "<div>\n",
       "<style scoped>\n",
       "    .dataframe tbody tr th:only-of-type {\n",
       "        vertical-align: middle;\n",
       "    }\n",
       "\n",
       "    .dataframe tbody tr th {\n",
       "        vertical-align: top;\n",
       "    }\n",
       "\n",
       "    .dataframe thead th {\n",
       "        text-align: right;\n",
       "    }\n",
       "</style>\n",
       "<table border=\"1\" class=\"dataframe\">\n",
       "  <thead>\n",
       "    <tr style=\"text-align: right;\">\n",
       "      <th></th>\n",
       "      <th>APPLICATION_TYPE_Other</th>\n",
       "      <th>APPLICATION_TYPE_T10</th>\n",
       "      <th>APPLICATION_TYPE_T19</th>\n",
       "      <th>APPLICATION_TYPE_T3</th>\n",
       "      <th>APPLICATION_TYPE_T4</th>\n",
       "      <th>APPLICATION_TYPE_T5</th>\n",
       "      <th>APPLICATION_TYPE_T6</th>\n",
       "      <th>APPLICATION_TYPE_T7</th>\n",
       "      <th>APPLICATION_TYPE_T8</th>\n",
       "      <th>AFFILIATION_CompanySponsored</th>\n",
       "      <th>...</th>\n",
       "      <th>ORGANIZATION_Trust</th>\n",
       "      <th>INCOME_AMT_0</th>\n",
       "      <th>INCOME_AMT_1-9999</th>\n",
       "      <th>INCOME_AMT_10000-24999</th>\n",
       "      <th>INCOME_AMT_100000-499999</th>\n",
       "      <th>INCOME_AMT_10M-50M</th>\n",
       "      <th>INCOME_AMT_1M-5M</th>\n",
       "      <th>INCOME_AMT_25000-99999</th>\n",
       "      <th>INCOME_AMT_50M+</th>\n",
       "      <th>INCOME_AMT_5M-10M</th>\n",
       "    </tr>\n",
       "  </thead>\n",
       "  <tbody>\n",
       "    <tr>\n",
       "      <th>0</th>\n",
       "      <td>0.0</td>\n",
       "      <td>1.0</td>\n",
       "      <td>0.0</td>\n",
       "      <td>0.0</td>\n",
       "      <td>0.0</td>\n",
       "      <td>0.0</td>\n",
       "      <td>0.0</td>\n",
       "      <td>0.0</td>\n",
       "      <td>0.0</td>\n",
       "      <td>0.0</td>\n",
       "      <td>...</td>\n",
       "      <td>0.0</td>\n",
       "      <td>1.0</td>\n",
       "      <td>0.0</td>\n",
       "      <td>0.0</td>\n",
       "      <td>0.0</td>\n",
       "      <td>0.0</td>\n",
       "      <td>0.0</td>\n",
       "      <td>0.0</td>\n",
       "      <td>0.0</td>\n",
       "      <td>0.0</td>\n",
       "    </tr>\n",
       "    <tr>\n",
       "      <th>1</th>\n",
       "      <td>0.0</td>\n",
       "      <td>0.0</td>\n",
       "      <td>0.0</td>\n",
       "      <td>1.0</td>\n",
       "      <td>0.0</td>\n",
       "      <td>0.0</td>\n",
       "      <td>0.0</td>\n",
       "      <td>0.0</td>\n",
       "      <td>0.0</td>\n",
       "      <td>0.0</td>\n",
       "      <td>...</td>\n",
       "      <td>0.0</td>\n",
       "      <td>0.0</td>\n",
       "      <td>1.0</td>\n",
       "      <td>0.0</td>\n",
       "      <td>0.0</td>\n",
       "      <td>0.0</td>\n",
       "      <td>0.0</td>\n",
       "      <td>0.0</td>\n",
       "      <td>0.0</td>\n",
       "      <td>0.0</td>\n",
       "    </tr>\n",
       "    <tr>\n",
       "      <th>2</th>\n",
       "      <td>0.0</td>\n",
       "      <td>0.0</td>\n",
       "      <td>0.0</td>\n",
       "      <td>0.0</td>\n",
       "      <td>0.0</td>\n",
       "      <td>1.0</td>\n",
       "      <td>0.0</td>\n",
       "      <td>0.0</td>\n",
       "      <td>0.0</td>\n",
       "      <td>1.0</td>\n",
       "      <td>...</td>\n",
       "      <td>0.0</td>\n",
       "      <td>1.0</td>\n",
       "      <td>0.0</td>\n",
       "      <td>0.0</td>\n",
       "      <td>0.0</td>\n",
       "      <td>0.0</td>\n",
       "      <td>0.0</td>\n",
       "      <td>0.0</td>\n",
       "      <td>0.0</td>\n",
       "      <td>0.0</td>\n",
       "    </tr>\n",
       "    <tr>\n",
       "      <th>3</th>\n",
       "      <td>0.0</td>\n",
       "      <td>0.0</td>\n",
       "      <td>0.0</td>\n",
       "      <td>1.0</td>\n",
       "      <td>0.0</td>\n",
       "      <td>0.0</td>\n",
       "      <td>0.0</td>\n",
       "      <td>0.0</td>\n",
       "      <td>0.0</td>\n",
       "      <td>1.0</td>\n",
       "      <td>...</td>\n",
       "      <td>1.0</td>\n",
       "      <td>0.0</td>\n",
       "      <td>0.0</td>\n",
       "      <td>1.0</td>\n",
       "      <td>0.0</td>\n",
       "      <td>0.0</td>\n",
       "      <td>0.0</td>\n",
       "      <td>0.0</td>\n",
       "      <td>0.0</td>\n",
       "      <td>0.0</td>\n",
       "    </tr>\n",
       "    <tr>\n",
       "      <th>4</th>\n",
       "      <td>0.0</td>\n",
       "      <td>0.0</td>\n",
       "      <td>0.0</td>\n",
       "      <td>1.0</td>\n",
       "      <td>0.0</td>\n",
       "      <td>0.0</td>\n",
       "      <td>0.0</td>\n",
       "      <td>0.0</td>\n",
       "      <td>0.0</td>\n",
       "      <td>0.0</td>\n",
       "      <td>...</td>\n",
       "      <td>1.0</td>\n",
       "      <td>0.0</td>\n",
       "      <td>0.0</td>\n",
       "      <td>0.0</td>\n",
       "      <td>1.0</td>\n",
       "      <td>0.0</td>\n",
       "      <td>0.0</td>\n",
       "      <td>0.0</td>\n",
       "      <td>0.0</td>\n",
       "      <td>0.0</td>\n",
       "    </tr>\n",
       "  </tbody>\n",
       "</table>\n",
       "<p>5 rows × 40 columns</p>\n",
       "</div>"
      ],
      "text/plain": [
       "   APPLICATION_TYPE_Other  APPLICATION_TYPE_T10  APPLICATION_TYPE_T19  \\\n",
       "0                     0.0                   1.0                   0.0   \n",
       "1                     0.0                   0.0                   0.0   \n",
       "2                     0.0                   0.0                   0.0   \n",
       "3                     0.0                   0.0                   0.0   \n",
       "4                     0.0                   0.0                   0.0   \n",
       "\n",
       "   APPLICATION_TYPE_T3  APPLICATION_TYPE_T4  APPLICATION_TYPE_T5  \\\n",
       "0                  0.0                  0.0                  0.0   \n",
       "1                  1.0                  0.0                  0.0   \n",
       "2                  0.0                  0.0                  1.0   \n",
       "3                  1.0                  0.0                  0.0   \n",
       "4                  1.0                  0.0                  0.0   \n",
       "\n",
       "   APPLICATION_TYPE_T6  APPLICATION_TYPE_T7  APPLICATION_TYPE_T8  \\\n",
       "0                  0.0                  0.0                  0.0   \n",
       "1                  0.0                  0.0                  0.0   \n",
       "2                  0.0                  0.0                  0.0   \n",
       "3                  0.0                  0.0                  0.0   \n",
       "4                  0.0                  0.0                  0.0   \n",
       "\n",
       "   AFFILIATION_CompanySponsored  ...  ORGANIZATION_Trust  INCOME_AMT_0  \\\n",
       "0                           0.0  ...                 0.0           1.0   \n",
       "1                           0.0  ...                 0.0           0.0   \n",
       "2                           1.0  ...                 0.0           1.0   \n",
       "3                           1.0  ...                 1.0           0.0   \n",
       "4                           0.0  ...                 1.0           0.0   \n",
       "\n",
       "   INCOME_AMT_1-9999  INCOME_AMT_10000-24999  INCOME_AMT_100000-499999  \\\n",
       "0                0.0                     0.0                       0.0   \n",
       "1                1.0                     0.0                       0.0   \n",
       "2                0.0                     0.0                       0.0   \n",
       "3                0.0                     1.0                       0.0   \n",
       "4                0.0                     0.0                       1.0   \n",
       "\n",
       "   INCOME_AMT_10M-50M  INCOME_AMT_1M-5M  INCOME_AMT_25000-99999  \\\n",
       "0                 0.0               0.0                     0.0   \n",
       "1                 0.0               0.0                     0.0   \n",
       "2                 0.0               0.0                     0.0   \n",
       "3                 0.0               0.0                     0.0   \n",
       "4                 0.0               0.0                     0.0   \n",
       "\n",
       "   INCOME_AMT_50M+  INCOME_AMT_5M-10M  \n",
       "0              0.0                0.0  \n",
       "1              0.0                0.0  \n",
       "2              0.0                0.0  \n",
       "3              0.0                0.0  \n",
       "4              0.0                0.0  \n",
       "\n",
       "[5 rows x 40 columns]"
      ]
     },
     "execution_count": 16,
     "metadata": {},
     "output_type": "execute_result"
    }
   ],
   "source": [
    "enc = OneHotEncoder(sparse=False)\n",
    "encode_df = pd.DataFrame()\n",
    "for fet in cat:\n",
    "    # Fit the encoder and produce encoded DataFrame\n",
    "    tmp_df = pd.DataFrame(enc.fit_transform(df[fet].values.reshape(-1,1)))\n",
    "\n",
    "    # Rename encoded columns\n",
    "    tmp_df.columns = enc.get_feature_names([fet])\n",
    "    encode_df = pd.concat([encode_df, tmp_df], axis=1)\n",
    "\n",
    "encode_df.head()"
   ]
  },
  {
   "cell_type": "code",
   "execution_count": 19,
   "metadata": {},
   "outputs": [
    {
     "data": {
      "text/plain": [
       "((34299, 40), (34299, 8))"
      ]
     },
     "execution_count": 19,
     "metadata": {},
     "output_type": "execute_result"
    }
   ],
   "source": [
    "encode_df.shape, df.shape"
   ]
  },
  {
   "cell_type": "code",
   "execution_count": 17,
   "metadata": {},
   "outputs": [
    {
     "data": {
      "text/html": [
       "<div>\n",
       "<style scoped>\n",
       "    .dataframe tbody tr th:only-of-type {\n",
       "        vertical-align: middle;\n",
       "    }\n",
       "\n",
       "    .dataframe tbody tr th {\n",
       "        vertical-align: top;\n",
       "    }\n",
       "\n",
       "    .dataframe thead th {\n",
       "        text-align: right;\n",
       "    }\n",
       "</style>\n",
       "<table border=\"1\" class=\"dataframe\">\n",
       "  <thead>\n",
       "    <tr style=\"text-align: right;\">\n",
       "      <th></th>\n",
       "      <th>ASK_AMT</th>\n",
       "      <th>IS_SUCCESSFUL</th>\n",
       "      <th>APPLICATION_TYPE_Other</th>\n",
       "      <th>APPLICATION_TYPE_T10</th>\n",
       "      <th>APPLICATION_TYPE_T19</th>\n",
       "      <th>APPLICATION_TYPE_T3</th>\n",
       "      <th>APPLICATION_TYPE_T4</th>\n",
       "      <th>APPLICATION_TYPE_T5</th>\n",
       "      <th>APPLICATION_TYPE_T6</th>\n",
       "      <th>APPLICATION_TYPE_T7</th>\n",
       "      <th>...</th>\n",
       "      <th>ORGANIZATION_Trust</th>\n",
       "      <th>INCOME_AMT_0</th>\n",
       "      <th>INCOME_AMT_1-9999</th>\n",
       "      <th>INCOME_AMT_10000-24999</th>\n",
       "      <th>INCOME_AMT_100000-499999</th>\n",
       "      <th>INCOME_AMT_10M-50M</th>\n",
       "      <th>INCOME_AMT_1M-5M</th>\n",
       "      <th>INCOME_AMT_25000-99999</th>\n",
       "      <th>INCOME_AMT_50M+</th>\n",
       "      <th>INCOME_AMT_5M-10M</th>\n",
       "    </tr>\n",
       "  </thead>\n",
       "  <tbody>\n",
       "    <tr>\n",
       "      <th>0</th>\n",
       "      <td>5000</td>\n",
       "      <td>1</td>\n",
       "      <td>0.0</td>\n",
       "      <td>1.0</td>\n",
       "      <td>0.0</td>\n",
       "      <td>0.0</td>\n",
       "      <td>0.0</td>\n",
       "      <td>0.0</td>\n",
       "      <td>0.0</td>\n",
       "      <td>0.0</td>\n",
       "      <td>...</td>\n",
       "      <td>0.0</td>\n",
       "      <td>1.0</td>\n",
       "      <td>0.0</td>\n",
       "      <td>0.0</td>\n",
       "      <td>0.0</td>\n",
       "      <td>0.0</td>\n",
       "      <td>0.0</td>\n",
       "      <td>0.0</td>\n",
       "      <td>0.0</td>\n",
       "      <td>0.0</td>\n",
       "    </tr>\n",
       "    <tr>\n",
       "      <th>1</th>\n",
       "      <td>108590</td>\n",
       "      <td>1</td>\n",
       "      <td>0.0</td>\n",
       "      <td>0.0</td>\n",
       "      <td>0.0</td>\n",
       "      <td>1.0</td>\n",
       "      <td>0.0</td>\n",
       "      <td>0.0</td>\n",
       "      <td>0.0</td>\n",
       "      <td>0.0</td>\n",
       "      <td>...</td>\n",
       "      <td>0.0</td>\n",
       "      <td>0.0</td>\n",
       "      <td>1.0</td>\n",
       "      <td>0.0</td>\n",
       "      <td>0.0</td>\n",
       "      <td>0.0</td>\n",
       "      <td>0.0</td>\n",
       "      <td>0.0</td>\n",
       "      <td>0.0</td>\n",
       "      <td>0.0</td>\n",
       "    </tr>\n",
       "    <tr>\n",
       "      <th>2</th>\n",
       "      <td>5000</td>\n",
       "      <td>0</td>\n",
       "      <td>0.0</td>\n",
       "      <td>0.0</td>\n",
       "      <td>0.0</td>\n",
       "      <td>0.0</td>\n",
       "      <td>0.0</td>\n",
       "      <td>1.0</td>\n",
       "      <td>0.0</td>\n",
       "      <td>0.0</td>\n",
       "      <td>...</td>\n",
       "      <td>0.0</td>\n",
       "      <td>1.0</td>\n",
       "      <td>0.0</td>\n",
       "      <td>0.0</td>\n",
       "      <td>0.0</td>\n",
       "      <td>0.0</td>\n",
       "      <td>0.0</td>\n",
       "      <td>0.0</td>\n",
       "      <td>0.0</td>\n",
       "      <td>0.0</td>\n",
       "    </tr>\n",
       "    <tr>\n",
       "      <th>3</th>\n",
       "      <td>6692</td>\n",
       "      <td>1</td>\n",
       "      <td>0.0</td>\n",
       "      <td>0.0</td>\n",
       "      <td>0.0</td>\n",
       "      <td>1.0</td>\n",
       "      <td>0.0</td>\n",
       "      <td>0.0</td>\n",
       "      <td>0.0</td>\n",
       "      <td>0.0</td>\n",
       "      <td>...</td>\n",
       "      <td>1.0</td>\n",
       "      <td>0.0</td>\n",
       "      <td>0.0</td>\n",
       "      <td>1.0</td>\n",
       "      <td>0.0</td>\n",
       "      <td>0.0</td>\n",
       "      <td>0.0</td>\n",
       "      <td>0.0</td>\n",
       "      <td>0.0</td>\n",
       "      <td>0.0</td>\n",
       "    </tr>\n",
       "    <tr>\n",
       "      <th>4</th>\n",
       "      <td>142590</td>\n",
       "      <td>1</td>\n",
       "      <td>0.0</td>\n",
       "      <td>0.0</td>\n",
       "      <td>0.0</td>\n",
       "      <td>1.0</td>\n",
       "      <td>0.0</td>\n",
       "      <td>0.0</td>\n",
       "      <td>0.0</td>\n",
       "      <td>0.0</td>\n",
       "      <td>...</td>\n",
       "      <td>1.0</td>\n",
       "      <td>0.0</td>\n",
       "      <td>0.0</td>\n",
       "      <td>0.0</td>\n",
       "      <td>1.0</td>\n",
       "      <td>0.0</td>\n",
       "      <td>0.0</td>\n",
       "      <td>0.0</td>\n",
       "      <td>0.0</td>\n",
       "      <td>0.0</td>\n",
       "    </tr>\n",
       "  </tbody>\n",
       "</table>\n",
       "<p>5 rows × 42 columns</p>\n",
       "</div>"
      ],
      "text/plain": [
       "   ASK_AMT  IS_SUCCESSFUL  APPLICATION_TYPE_Other  APPLICATION_TYPE_T10  \\\n",
       "0     5000              1                     0.0                   1.0   \n",
       "1   108590              1                     0.0                   0.0   \n",
       "2     5000              0                     0.0                   0.0   \n",
       "3     6692              1                     0.0                   0.0   \n",
       "4   142590              1                     0.0                   0.0   \n",
       "\n",
       "   APPLICATION_TYPE_T19  APPLICATION_TYPE_T3  APPLICATION_TYPE_T4  \\\n",
       "0                   0.0                  0.0                  0.0   \n",
       "1                   0.0                  1.0                  0.0   \n",
       "2                   0.0                  0.0                  0.0   \n",
       "3                   0.0                  1.0                  0.0   \n",
       "4                   0.0                  1.0                  0.0   \n",
       "\n",
       "   APPLICATION_TYPE_T5  APPLICATION_TYPE_T6  APPLICATION_TYPE_T7  ...  \\\n",
       "0                  0.0                  0.0                  0.0  ...   \n",
       "1                  0.0                  0.0                  0.0  ...   \n",
       "2                  1.0                  0.0                  0.0  ...   \n",
       "3                  0.0                  0.0                  0.0  ...   \n",
       "4                  0.0                  0.0                  0.0  ...   \n",
       "\n",
       "   ORGANIZATION_Trust  INCOME_AMT_0  INCOME_AMT_1-9999  \\\n",
       "0                 0.0           1.0                0.0   \n",
       "1                 0.0           0.0                1.0   \n",
       "2                 0.0           1.0                0.0   \n",
       "3                 1.0           0.0                0.0   \n",
       "4                 1.0           0.0                0.0   \n",
       "\n",
       "   INCOME_AMT_10000-24999  INCOME_AMT_100000-499999  INCOME_AMT_10M-50M  \\\n",
       "0                     0.0                       0.0                 0.0   \n",
       "1                     0.0                       0.0                 0.0   \n",
       "2                     0.0                       0.0                 0.0   \n",
       "3                     1.0                       0.0                 0.0   \n",
       "4                     0.0                       1.0                 0.0   \n",
       "\n",
       "   INCOME_AMT_1M-5M  INCOME_AMT_25000-99999  INCOME_AMT_50M+  \\\n",
       "0               0.0                     0.0              0.0   \n",
       "1               0.0                     0.0              0.0   \n",
       "2               0.0                     0.0              0.0   \n",
       "3               0.0                     0.0              0.0   \n",
       "4               0.0                     0.0              0.0   \n",
       "\n",
       "   INCOME_AMT_5M-10M  \n",
       "0                0.0  \n",
       "1                0.0  \n",
       "2                0.0  \n",
       "3                0.0  \n",
       "4                0.0  \n",
       "\n",
       "[5 rows x 42 columns]"
      ]
     },
     "execution_count": 17,
     "metadata": {},
     "output_type": "execute_result"
    }
   ],
   "source": [
    "df_final = df.merge(encode_df, left_index=True,right_index=True).drop(cat, 1)\n",
    "df_final.head()"
   ]
  },
  {
   "cell_type": "code",
   "execution_count": 18,
   "metadata": {},
   "outputs": [
    {
     "data": {
      "text/plain": [
       "(25724, 41)"
      ]
     },
     "execution_count": 18,
     "metadata": {},
     "output_type": "execute_result"
    }
   ],
   "source": [
    "# Split our preprocessed data into our features and target arrays\n",
    "y = df_final[\"IS_SUCCESSFUL\"].values\n",
    "X = df_final.drop([\"IS_SUCCESSFUL\"],1).values\n",
    "\n",
    "# Split the preprocessed data into a training and testing dataset\n",
    "X_train, X_test, y_train, y_test = train_test_split(X, y, random_state=78)\n",
    "X_train.shape"
   ]
  },
  {
   "cell_type": "code",
   "execution_count": 19,
   "metadata": {},
   "outputs": [],
   "source": [
    "# Create a StandardScaler instance\n",
    "scaler = StandardScaler()\n",
    "\n",
    "# Fit the StandardScaler\n",
    "X_scaler = scaler.fit(X_train)\n",
    "\n",
    "# Scale the data\n",
    "X_train_scaled = X_scaler.transform(X_train)\n",
    "X_test_scaled = X_scaler.transform(X_test)"
   ]
  },
  {
   "cell_type": "code",
   "execution_count": 20,
   "metadata": {},
   "outputs": [
    {
     "data": {
      "text/plain": [
       "(25724, 41)"
      ]
     },
     "execution_count": 20,
     "metadata": {},
     "output_type": "execute_result"
    }
   ],
   "source": [
    "X_train_scaled.shape"
   ]
  },
  {
   "cell_type": "markdown",
   "metadata": {},
   "source": [
    "### Neural Network Classification"
   ]
  },
  {
   "cell_type": "code",
   "execution_count": 21,
   "metadata": {},
   "outputs": [
    {
     "name": "stdout",
     "output_type": "stream",
     "text": [
      "Model: \"sequential\"\n",
      "_________________________________________________________________\n",
      "Layer (type)                 Output Shape              Param #   \n",
      "=================================================================\n",
      "dense (Dense)                (None, 82)                3444      \n",
      "_________________________________________________________________\n",
      "dense_1 (Dense)              (None, 1)                 83        \n",
      "=================================================================\n",
      "Total params: 3,527\n",
      "Trainable params: 3,527\n",
      "Non-trainable params: 0\n",
      "_________________________________________________________________\n"
     ]
    }
   ],
   "source": [
    "# Define the model - deep neural net\n",
    "number_input_features = len(X_train[0])\n",
    "hidden_nodes_layer1 = 2* number_input_features\n",
    "\n",
    "nn = tf.keras.models.Sequential()\n",
    "\n",
    "# First hidden layer\n",
    "nn.add(\n",
    "    tf.keras.layers.Dense(units=hidden_nodes_layer1, input_dim=number_input_features, activation=\"relu\")\n",
    ")\n",
    "\n",
    "# Output layer\n",
    "nn.add(tf.keras.layers.Dense(units=1, activation=\"sigmoid\"))\n",
    "\n",
    "# Check the structure of the model\n",
    "nn.summary()"
   ]
  },
  {
   "cell_type": "code",
   "execution_count": 22,
   "metadata": {},
   "outputs": [],
   "source": [
    "# Compile the model\n",
    "nn.compile(loss=\"binary_crossentropy\", optimizer=\"adam\", metrics=[\"accuracy\"])"
   ]
  },
  {
   "cell_type": "code",
   "execution_count": 23,
   "metadata": {},
   "outputs": [
    {
     "name": "stdout",
     "output_type": "stream",
     "text": [
      "Epoch 1/50\n",
      "804/804 [==============================] - 1s 687us/step - loss: 0.5728 - accuracy: 0.7203\n",
      "Epoch 2/50\n",
      "804/804 [==============================] - 1s 708us/step - loss: 0.5569 - accuracy: 0.72830s - loss: 0.5572 - accuracy: 0.72\n",
      "Epoch 3/50\n",
      "804/804 [==============================] - 1s 729us/step - loss: 0.5542 - accuracy: 0.7292\n",
      "Epoch 4/50\n",
      "804/804 [==============================] - 1s 751us/step - loss: 0.5525 - accuracy: 0.7314\n",
      "Epoch 5/50\n",
      "804/804 [==============================] - 1s 717us/step - loss: 0.5514 - accuracy: 0.7312\n",
      "Epoch 6/50\n",
      "804/804 [==============================] - 1s 783us/step - loss: 0.5505 - accuracy: 0.7319\n",
      "Epoch 7/50\n",
      "804/804 [==============================] - 1s 729us/step - loss: 0.5498 - accuracy: 0.7322\n",
      "Epoch 8/50\n",
      "804/804 [==============================] - 1s 737us/step - loss: 0.5492 - accuracy: 0.7326\n",
      "Epoch 9/50\n",
      "804/804 [==============================] - 1s 714us/step - loss: 0.5487 - accuracy: 0.73260s - loss: 0.5456 - accuracy\n",
      "Epoch 10/50\n",
      "804/804 [==============================] - 1s 685us/step - loss: 0.5483 - accuracy: 0.7330\n",
      "Epoch 11/50\n",
      "804/804 [==============================] - 1s 670us/step - loss: 0.5479 - accuracy: 0.7330\n",
      "Epoch 12/50\n",
      "804/804 [==============================] - 1s 771us/step - loss: 0.5474 - accuracy: 0.7334\n",
      "Epoch 13/50\n",
      "804/804 [==============================] - 1s 710us/step - loss: 0.5471 - accuracy: 0.7336\n",
      "Epoch 14/50\n",
      "804/804 [==============================] - 1s 765us/step - loss: 0.5468 - accuracy: 0.7339\n",
      "Epoch 15/50\n",
      "804/804 [==============================] - 1s 752us/step - loss: 0.5465 - accuracy: 0.7339\n",
      "Epoch 16/50\n",
      "804/804 [==============================] - 1s 748us/step - loss: 0.5462 - accuracy: 0.7343\n",
      "Epoch 17/50\n",
      "804/804 [==============================] - 1s 767us/step - loss: 0.5460 - accuracy: 0.7346\n",
      "Epoch 18/50\n",
      "804/804 [==============================] - 1s 765us/step - loss: 0.5457 - accuracy: 0.7346\n",
      "Epoch 19/50\n",
      "804/804 [==============================] - 1s 754us/step - loss: 0.5454 - accuracy: 0.7346\n",
      "Epoch 20/50\n",
      "804/804 [==============================] - 1s 711us/step - loss: 0.5452 - accuracy: 0.7352\n",
      "Epoch 21/50\n",
      "804/804 [==============================] - 1s 679us/step - loss: 0.5450 - accuracy: 0.7350\n",
      "Epoch 22/50\n",
      "804/804 [==============================] - 1s 645us/step - loss: 0.5448 - accuracy: 0.7353\n",
      "Epoch 23/50\n",
      "804/804 [==============================] - 1s 693us/step - loss: 0.5446 - accuracy: 0.7350\n",
      "Epoch 24/50\n",
      "804/804 [==============================] - 1s 666us/step - loss: 0.5444 - accuracy: 0.7351\n",
      "Epoch 25/50\n",
      "804/804 [==============================] - 1s 689us/step - loss: 0.5443 - accuracy: 0.7348\n",
      "Epoch 26/50\n",
      "804/804 [==============================] - 1s 671us/step - loss: 0.5441 - accuracy: 0.7350\n",
      "Epoch 27/50\n",
      "804/804 [==============================] - 1s 690us/step - loss: 0.5440 - accuracy: 0.7353\n",
      "Epoch 28/50\n",
      "804/804 [==============================] - 1s 653us/step - loss: 0.5438 - accuracy: 0.7357\n",
      "Epoch 29/50\n",
      "804/804 [==============================] - 1s 667us/step - loss: 0.5437 - accuracy: 0.7357\n",
      "Epoch 30/50\n",
      "804/804 [==============================] - 1s 667us/step - loss: 0.5435 - accuracy: 0.7357\n",
      "Epoch 31/50\n",
      "804/804 [==============================] - 1s 680us/step - loss: 0.5434 - accuracy: 0.7357\n",
      "Epoch 32/50\n",
      "804/804 [==============================] - 1s 664us/step - loss: 0.5433 - accuracy: 0.7362\n",
      "Epoch 33/50\n",
      "804/804 [==============================] - 1s 676us/step - loss: 0.5431 - accuracy: 0.7361\n",
      "Epoch 34/50\n",
      "804/804 [==============================] - 1s 661us/step - loss: 0.5430 - accuracy: 0.7361\n",
      "Epoch 35/50\n",
      "804/804 [==============================] - 1s 692us/step - loss: 0.5429 - accuracy: 0.73640s - loss: 0.5391 - ac\n",
      "Epoch 36/50\n",
      "804/804 [==============================] - 1s 659us/step - loss: 0.5428 - accuracy: 0.7364\n",
      "Epoch 37/50\n",
      "804/804 [==============================] - 1s 672us/step - loss: 0.5427 - accuracy: 0.7364\n",
      "Epoch 38/50\n",
      "804/804 [==============================] - 1s 658us/step - loss: 0.5426 - accuracy: 0.7367\n",
      "Epoch 39/50\n",
      "804/804 [==============================] - 1s 655us/step - loss: 0.5425 - accuracy: 0.7364\n",
      "Epoch 40/50\n",
      "804/804 [==============================] - 1s 693us/step - loss: 0.5424 - accuracy: 0.7368\n",
      "Epoch 41/50\n",
      "804/804 [==============================] - 1s 657us/step - loss: 0.5423 - accuracy: 0.7367\n",
      "Epoch 42/50\n",
      "804/804 [==============================] - 1s 663us/step - loss: 0.5422 - accuracy: 0.7370\n",
      "Epoch 43/50\n",
      "804/804 [==============================] - 1s 677us/step - loss: 0.5421 - accuracy: 0.7367\n",
      "Epoch 44/50\n",
      "804/804 [==============================] - 1s 687us/step - loss: 0.5420 - accuracy: 0.7369\n",
      "Epoch 45/50\n",
      "804/804 [==============================] - 1s 664us/step - loss: 0.5419 - accuracy: 0.7370\n",
      "Epoch 46/50\n",
      "804/804 [==============================] - 1s 701us/step - loss: 0.5418 - accuracy: 0.7374\n",
      "Epoch 47/50\n",
      "804/804 [==============================] - 1s 673us/step - loss: 0.5418 - accuracy: 0.7373\n",
      "Epoch 48/50\n",
      "804/804 [==============================] - 1s 659us/step - loss: 0.5417 - accuracy: 0.7372\n",
      "Epoch 49/50\n",
      "804/804 [==============================] - 1s 683us/step - loss: 0.5416 - accuracy: 0.7377\n",
      "Epoch 50/50\n",
      "804/804 [==============================] - 1s 674us/step - loss: 0.5415 - accuracy: 0.7374\n"
     ]
    }
   ],
   "source": [
    "# Train the model\n",
    "fit_model = nn.fit(X_train_scaled, y_train,epochs=50, shuffle=False)"
   ]
  },
  {
   "cell_type": "code",
   "execution_count": 24,
   "metadata": {},
   "outputs": [
    {
     "name": "stdout",
     "output_type": "stream",
     "text": [
      "268/268 - 0s - loss: 0.5546 - accuracy: 0.7242\n",
      "Loss: 0.5546209812164307, Accuracy: 0.7241982221603394\n"
     ]
    }
   ],
   "source": [
    "# Evaluate the model using the test data\n",
    "model_loss, model_accuracy = nn.evaluate(X_test_scaled,y_test,verbose=2)\n",
    "print(f\"Loss: {model_loss}, Accuracy: {model_accuracy}\")"
   ]
  },
  {
   "cell_type": "code",
   "execution_count": 25,
   "metadata": {},
   "outputs": [
    {
     "data": {
      "text/plain": [
       "<AxesSubplot:>"
      ]
     },
     "execution_count": 25,
     "metadata": {},
     "output_type": "execute_result"
    },
    {
     "data": {
      "image/png": "[encoded data removed]",
      "text/plain": [
       "<Figure size 432x288 with 1 Axes>"
      ]
     },
     "metadata": {
      "needs_background": "light"
     },
     "output_type": "display_data"
    }
   ],
   "source": [
    "history_df = pd.DataFrame(fit_model.history, index=range(1,len(fit_model.history[\"loss\"])+1))\n",
    "history_df.plot(y=\"loss\")"
   ]
  },
  {
   "cell_type": "code",
   "execution_count": 26,
   "metadata": {},
   "outputs": [
    {
     "data": {
      "text/plain": [
       "<AxesSubplot:>"
      ]
     },
     "execution_count": 26,
     "metadata": {},
     "output_type": "execute_result"
    },
    {
     "data": {
      "image/png": "[encoded data removed]",
      "text/plain": [
       "<Figure size 432x288 with 1 Axes>"
      ]
     },
     "metadata": {
      "needs_background": "light"
     },
     "output_type": "display_data"
    }
   ],
   "source": [
    "history_df.plot(y=\"accuracy\")"
   ]
  },
  {
   "cell_type": "code",
   "execution_count": 27,
   "metadata": {},
   "outputs": [
    {
     "name": "stdout",
     "output_type": "stream",
     "text": [
      "Epoch 1/50\n",
      "804/804 [==============================] - 0s 604us/step - loss: 0.5415 - accuracy: 0.7378\n",
      "Epoch 2/50\n",
      "804/804 [==============================] - 0s 597us/step - loss: 0.5414 - accuracy: 0.7378\n",
      "Epoch 3/50\n",
      "804/804 [==============================] - 0s 601us/step - loss: 0.5413 - accuracy: 0.7377\n",
      "Epoch 4/50\n",
      "804/804 [==============================] - 0s 592us/step - loss: 0.5413 - accuracy: 0.7378\n",
      "Epoch 5/50\n",
      "804/804 [==============================] - 0s 600us/step - loss: 0.5412 - accuracy: 0.7381\n",
      "Epoch 6/50\n",
      "804/804 [==============================] - 0s 594us/step - loss: 0.5412 - accuracy: 0.7381\n",
      "Epoch 7/50\n",
      "804/804 [==============================] - 0s 593us/step - loss: 0.5411 - accuracy: 0.7381\n",
      "Epoch 8/50\n",
      "804/804 [==============================] - 0s 595us/step - loss: 0.5411 - accuracy: 0.7384\n",
      "Epoch 9/50\n",
      "804/804 [==============================] - 0s 593us/step - loss: 0.5410 - accuracy: 0.7381\n",
      "Epoch 10/50\n",
      "804/804 [==============================] - 0s 600us/step - loss: 0.5410 - accuracy: 0.7385\n",
      "Epoch 11/50\n",
      "804/804 [==============================] - 0s 597us/step - loss: 0.5409 - accuracy: 0.7385\n",
      "Epoch 12/50\n",
      "804/804 [==============================] - 0s 589us/step - loss: 0.5409 - accuracy: 0.7384\n",
      "Epoch 13/50\n",
      "804/804 [==============================] - 0s 593us/step - loss: 0.5408 - accuracy: 0.7384\n",
      "Epoch 14/50\n",
      "804/804 [==============================] - 0s 596us/step - loss: 0.5408 - accuracy: 0.7385\n",
      "Epoch 15/50\n",
      "804/804 [==============================] - 0s 596us/step - loss: 0.5407 - accuracy: 0.7387\n",
      "Epoch 16/50\n",
      "804/804 [==============================] - 0s 600us/step - loss: 0.5407 - accuracy: 0.7385\n",
      "Epoch 17/50\n",
      "804/804 [==============================] - 0s 594us/step - loss: 0.5406 - accuracy: 0.7385\n",
      "Epoch 18/50\n",
      "804/804 [==============================] - 0s 600us/step - loss: 0.5406 - accuracy: 0.7388\n",
      "Epoch 19/50\n",
      "804/804 [==============================] - 0s 601us/step - loss: 0.5405 - accuracy: 0.7388\n",
      "Epoch 20/50\n",
      "804/804 [==============================] - 0s 598us/step - loss: 0.5405 - accuracy: 0.7385\n",
      "Epoch 21/50\n",
      "804/804 [==============================] - 0s 596us/step - loss: 0.5404 - accuracy: 0.7387\n",
      "Epoch 22/50\n",
      "804/804 [==============================] - 0s 596us/step - loss: 0.5404 - accuracy: 0.7385\n",
      "Epoch 23/50\n",
      "804/804 [==============================] - 0s 598us/step - loss: 0.5404 - accuracy: 0.7384\n",
      "Epoch 24/50\n",
      "804/804 [==============================] - 0s 599us/step - loss: 0.5403 - accuracy: 0.7388\n",
      "Epoch 25/50\n",
      "804/804 [==============================] - 1s 647us/step - loss: 0.5402 - accuracy: 0.7385\n",
      "Epoch 26/50\n",
      "804/804 [==============================] - 1s 702us/step - loss: 0.5402 - accuracy: 0.7388\n",
      "Epoch 27/50\n",
      "804/804 [==============================] - 1s 631us/step - loss: 0.5402 - accuracy: 0.7389\n",
      "Epoch 28/50\n",
      "804/804 [==============================] - 1s 625us/step - loss: 0.5401 - accuracy: 0.7386\n",
      "Epoch 29/50\n",
      "804/804 [==============================] - 1s 652us/step - loss: 0.5401 - accuracy: 0.7387\n",
      "Epoch 30/50\n",
      "804/804 [==============================] - 0s 599us/step - loss: 0.5401 - accuracy: 0.7389\n",
      "Epoch 31/50\n",
      "804/804 [==============================] - 0s 604us/step - loss: 0.5400 - accuracy: 0.7390\n",
      "Epoch 32/50\n",
      "804/804 [==============================] - 1s 627us/step - loss: 0.5400 - accuracy: 0.7389\n",
      "Epoch 33/50\n",
      "804/804 [==============================] - 0s 594us/step - loss: 0.5399 - accuracy: 0.7393\n",
      "Epoch 34/50\n",
      "804/804 [==============================] - 0s 588us/step - loss: 0.5399 - accuracy: 0.7390\n",
      "Epoch 35/50\n",
      "804/804 [==============================] - 0s 590us/step - loss: 0.5399 - accuracy: 0.7388\n",
      "Epoch 36/50\n",
      "804/804 [==============================] - 1s 719us/step - loss: 0.5398 - accuracy: 0.7388\n",
      "Epoch 37/50\n",
      "804/804 [==============================] - 1s 688us/step - loss: 0.5398 - accuracy: 0.7390\n",
      "Epoch 38/50\n",
      "804/804 [==============================] - 0s 591us/step - loss: 0.5398 - accuracy: 0.7390\n",
      "Epoch 39/50\n",
      "804/804 [==============================] - 0s 595us/step - loss: 0.5397 - accuracy: 0.7388\n",
      "Epoch 40/50\n",
      "804/804 [==============================] - 1s 632us/step - loss: 0.5397 - accuracy: 0.7384\n",
      "Epoch 41/50\n",
      "804/804 [==============================] - 1s 724us/step - loss: 0.5397 - accuracy: 0.7388\n",
      "Epoch 42/50\n",
      "804/804 [==============================] - 1s 683us/step - loss: 0.5396 - accuracy: 0.7387\n",
      "Epoch 43/50\n",
      "804/804 [==============================] - 1s 649us/step - loss: 0.5396 - accuracy: 0.7388\n",
      "Epoch 44/50\n",
      "804/804 [==============================] - 1s 639us/step - loss: 0.5396 - accuracy: 0.7386\n",
      "Epoch 45/50\n",
      "804/804 [==============================] - 1s 678us/step - loss: 0.5395 - accuracy: 0.7389\n",
      "Epoch 46/50\n",
      "804/804 [==============================] - 1s 645us/step - loss: 0.5395 - accuracy: 0.7389\n",
      "Epoch 47/50\n",
      "804/804 [==============================] - 1s 682us/step - loss: 0.5395 - accuracy: 0.7387\n",
      "Epoch 48/50\n",
      "804/804 [==============================] - 0s 601us/step - loss: 0.5394 - accuracy: 0.7391\n",
      "Epoch 49/50\n",
      "804/804 [==============================] - 1s 624us/step - loss: 0.5395 - accuracy: 0.7390\n",
      "Epoch 50/50\n",
      "804/804 [==============================] - 0s 605us/step - loss: 0.5394 - accuracy: 0.7389\n",
      "268/268 - 0s - loss: 0.5551 - accuracy: 0.7247\n",
      "Loss: 0.5551064610481262, Accuracy: 0.7246647477149963\n"
     ]
    }
   ],
   "source": [
    "# Increase epocs to see if performance improves\n",
    "fit_model = nn.fit(X_train_scaled, y_train,epochs=50, shuffle=False)\n",
    "# Evaluate the model using the test data\n",
    "model_loss, model_accuracy = nn.evaluate(X_test_scaled,y_test,verbose=2)\n",
    "print(f\"Loss: {model_loss}, Accuracy: {model_accuracy}\")"
   ]
  },
  {
   "cell_type": "markdown",
   "metadata": {},
   "source": [
    "### Deep neural network classification"
   ]
  },
  {
   "cell_type": "code",
   "execution_count": 42,
   "metadata": {},
   "outputs": [
    {
     "name": "stdout",
     "output_type": "stream",
     "text": [
      "Model: \"sequential_2\"\n",
      "_________________________________________________________________\n",
      "Layer (type)                 Output Shape              Param #   \n",
      "=================================================================\n",
      "dense_7 (Dense)              (None, 8)                 336       \n",
      "_________________________________________________________________\n",
      "dense_8 (Dense)              (None, 5)                 45        \n",
      "_________________________________________________________________\n",
      "dense_9 (Dense)              (None, 1)                 6         \n",
      "=================================================================\n",
      "Total params: 387\n",
      "Trainable params: 387\n",
      "Non-trainable params: 0\n",
      "_________________________________________________________________\n"
     ]
    }
   ],
   "source": [
    "# Define the model - deep neural net\n",
    "number_input_features = len(X_train[0])\n",
    "hidden_nodes_layer1 =  8\n",
    "hidden_nodes_layer2 = 5\n",
    "\n",
    "nn = tf.keras.models.Sequential()\n",
    "\n",
    "# First hidden layer\n",
    "nn.add(\n",
    "    tf.keras.layers.Dense(units=hidden_nodes_layer1, input_dim=number_input_features, activation=\"relu\")\n",
    ")\n",
    "\n",
    "# Second hidden layer\n",
    "nn.add(tf.keras.layers.Dense(units=hidden_nodes_layer2, activation=\"relu\"))\n",
    "\n",
    "\n",
    "# Output layer\n",
    "nn.add(tf.keras.layers.Dense(units=1, activation=\"sigmoid\"))\n",
    "\n",
    "# Check the structure of the model\n",
    "nn.summary()"
   ]
  },
  {
   "cell_type": "code",
   "execution_count": 43,
   "metadata": {},
   "outputs": [],
   "source": [
    "# Compile the model\n",
    "nn.compile(loss=\"binary_crossentropy\", optimizer=\"adam\", metrics=[\"accuracy\"])"
   ]
  },
  {
   "cell_type": "code",
   "execution_count": 44,
   "metadata": {},
   "outputs": [
    {
     "name": "stdout",
     "output_type": "stream",
     "text": [
      "Epoch 1/50\n",
      "804/804 [==============================] - 0s 459us/step - loss: 0.6066 - accuracy: 0.6978\n",
      "Epoch 2/50\n",
      "804/804 [==============================] - 0s 457us/step - loss: 0.5645 - accuracy: 0.7228\n",
      "Epoch 3/50\n",
      "804/804 [==============================] - 0s 461us/step - loss: 0.5588 - accuracy: 0.7243\n",
      "Epoch 4/50\n",
      "804/804 [==============================] - 0s 459us/step - loss: 0.5562 - accuracy: 0.7253\n",
      "Epoch 5/50\n",
      "804/804 [==============================] - 0s 458us/step - loss: 0.5545 - accuracy: 0.7261\n",
      "Epoch 6/50\n",
      "804/804 [==============================] - 0s 459us/step - loss: 0.5533 - accuracy: 0.7257\n",
      "Epoch 7/50\n",
      "804/804 [==============================] - 0s 458us/step - loss: 0.5524 - accuracy: 0.7268\n",
      "Epoch 8/50\n",
      "804/804 [==============================] - 0s 451us/step - loss: 0.5518 - accuracy: 0.7273\n",
      "Epoch 9/50\n",
      "804/804 [==============================] - 0s 452us/step - loss: 0.5512 - accuracy: 0.7279\n",
      "Epoch 10/50\n",
      "804/804 [==============================] - 0s 456us/step - loss: 0.5508 - accuracy: 0.7291\n",
      "Epoch 11/50\n",
      "804/804 [==============================] - 0s 451us/step - loss: 0.5504 - accuracy: 0.7301\n",
      "Epoch 12/50\n",
      "804/804 [==============================] - 0s 449us/step - loss: 0.5501 - accuracy: 0.7316\n",
      "Epoch 13/50\n",
      "804/804 [==============================] - 0s 456us/step - loss: 0.5497 - accuracy: 0.7314\n",
      "Epoch 14/50\n",
      "804/804 [==============================] - 0s 449us/step - loss: 0.5493 - accuracy: 0.7322\n",
      "Epoch 15/50\n",
      "804/804 [==============================] - 0s 446us/step - loss: 0.5490 - accuracy: 0.7323\n",
      "Epoch 16/50\n",
      "804/804 [==============================] - 0s 453us/step - loss: 0.5487 - accuracy: 0.7322\n",
      "Epoch 17/50\n",
      "804/804 [==============================] - 0s 451us/step - loss: 0.5484 - accuracy: 0.7321\n",
      "Epoch 18/50\n",
      "804/804 [==============================] - 0s 453us/step - loss: 0.5482 - accuracy: 0.7322\n",
      "Epoch 19/50\n",
      "804/804 [==============================] - 0s 453us/step - loss: 0.5480 - accuracy: 0.7325\n",
      "Epoch 20/50\n",
      "804/804 [==============================] - 0s 453us/step - loss: 0.5478 - accuracy: 0.7327\n",
      "Epoch 21/50\n",
      "804/804 [==============================] - 0s 458us/step - loss: 0.5477 - accuracy: 0.7328\n",
      "Epoch 22/50\n",
      "804/804 [==============================] - 0s 453us/step - loss: 0.5476 - accuracy: 0.7338\n",
      "Epoch 23/50\n",
      "804/804 [==============================] - 0s 452us/step - loss: 0.5475 - accuracy: 0.7337\n",
      "Epoch 24/50\n",
      "804/804 [==============================] - 0s 459us/step - loss: 0.5474 - accuracy: 0.7334\n",
      "Epoch 25/50\n",
      "804/804 [==============================] - 0s 456us/step - loss: 0.5472 - accuracy: 0.7338\n",
      "Epoch 26/50\n",
      "804/804 [==============================] - 0s 453us/step - loss: 0.5472 - accuracy: 0.7334\n",
      "Epoch 27/50\n",
      "804/804 [==============================] - 0s 457us/step - loss: 0.5471 - accuracy: 0.7333\n",
      "Epoch 28/50\n",
      "804/804 [==============================] - 0s 457us/step - loss: 0.5470 - accuracy: 0.7330\n",
      "Epoch 29/50\n",
      "804/804 [==============================] - 0s 457us/step - loss: 0.5469 - accuracy: 0.7332\n",
      "Epoch 30/50\n",
      "804/804 [==============================] - 0s 463us/step - loss: 0.5467 - accuracy: 0.7334\n",
      "Epoch 31/50\n",
      "804/804 [==============================] - 0s 450us/step - loss: 0.5466 - accuracy: 0.7338\n",
      "Epoch 32/50\n",
      "804/804 [==============================] - 0s 456us/step - loss: 0.5466 - accuracy: 0.7336\n",
      "Epoch 33/50\n",
      "804/804 [==============================] - 0s 474us/step - loss: 0.5465 - accuracy: 0.7343\n",
      "Epoch 34/50\n",
      "804/804 [==============================] - 0s 460us/step - loss: 0.5465 - accuracy: 0.7341\n",
      "Epoch 35/50\n",
      "804/804 [==============================] - 0s 452us/step - loss: 0.5465 - accuracy: 0.7346\n",
      "Epoch 36/50\n",
      "804/804 [==============================] - 0s 462us/step - loss: 0.5463 - accuracy: 0.7341\n",
      "Epoch 37/50\n",
      "804/804 [==============================] - 0s 462us/step - loss: 0.5463 - accuracy: 0.7342\n",
      "Epoch 38/50\n",
      "804/804 [==============================] - 0s 462us/step - loss: 0.5462 - accuracy: 0.7340\n",
      "Epoch 39/50\n",
      "804/804 [==============================] - 0s 456us/step - loss: 0.5462 - accuracy: 0.7339\n",
      "Epoch 40/50\n",
      "804/804 [==============================] - 0s 463us/step - loss: 0.5461 - accuracy: 0.7339\n",
      "Epoch 41/50\n",
      "804/804 [==============================] - 0s 463us/step - loss: 0.5461 - accuracy: 0.7340\n",
      "Epoch 42/50\n",
      "804/804 [==============================] - 0s 461us/step - loss: 0.5460 - accuracy: 0.7339\n",
      "Epoch 43/50\n",
      "804/804 [==============================] - 0s 469us/step - loss: 0.5460 - accuracy: 0.7341\n",
      "Epoch 44/50\n",
      "804/804 [==============================] - 0s 464us/step - loss: 0.5460 - accuracy: 0.7341\n",
      "Epoch 45/50\n",
      "804/804 [==============================] - 0s 465us/step - loss: 0.5459 - accuracy: 0.7342\n",
      "Epoch 46/50\n",
      "804/804 [==============================] - 0s 469us/step - loss: 0.5458 - accuracy: 0.7341\n",
      "Epoch 47/50\n",
      "804/804 [==============================] - 0s 467us/step - loss: 0.5458 - accuracy: 0.7343\n",
      "Epoch 48/50\n",
      "804/804 [==============================] - 0s 475us/step - loss: 0.5458 - accuracy: 0.7343\n",
      "Epoch 49/50\n",
      "804/804 [==============================] - 0s 469us/step - loss: 0.5458 - accuracy: 0.7340\n",
      "Epoch 50/50\n",
      "804/804 [==============================] - 0s 501us/step - loss: 0.5457 - accuracy: 0.7345\n"
     ]
    }
   ],
   "source": [
    "# Train the model\n",
    "fit_model = nn.fit(X_train_scaled,y_train,epochs=50, shuffle=False)"
   ]
  },
  {
   "cell_type": "code",
   "execution_count": 45,
   "metadata": {},
   "outputs": [
    {
     "name": "stdout",
     "output_type": "stream",
     "text": [
      "268/268 - 0s - loss: 0.5528 - accuracy: 0.7244\n",
      "Loss: 0.5527504086494446, Accuracy: 0.7244315147399902\n"
     ]
    }
   ],
   "source": [
    "# Evaluate the model using the test data\n",
    "model_loss, model_accuracy = nn.evaluate(X_test_scaled,y_test,verbose=2)\n",
    "print(f\"Loss: {model_loss}, Accuracy: {model_accuracy}\")"
   ]
  },
  {
   "cell_type": "code",
   "execution_count": 46,
   "metadata": {},
   "outputs": [
    {
     "data": {
      "text/plain": [
       "<AxesSubplot:>"
      ]
     },
     "execution_count": 46,
     "metadata": {},
     "output_type": "execute_result"
    },
    {
     "data": {
      "image/png": "[encoded data removed]",
      "text/plain": [
       "<Figure size 432x288 with 1 Axes>"
      ]
     },
     "metadata": {
      "needs_background": "light"
     },
     "output_type": "display_data"
    }
   ],
   "source": [
    "history_df = pd.DataFrame(fit_model.history, index=range(1,len(fit_model.history[\"loss\"])+1))\n",
    "history_df.plot(y=\"loss\")\n"
   ]
  },
  {
   "cell_type": "code",
   "execution_count": 47,
   "metadata": {},
   "outputs": [
    {
     "data": {
      "text/plain": [
       "<AxesSubplot:>"
      ]
     },
     "execution_count": 47,
     "metadata": {},
     "output_type": "execute_result"
    },
    {
     "data": {
      "image/png": "[encoded data removed]",
      "text/plain": [
       "<Figure size 432x288 with 1 Axes>"
      ]
     },
     "metadata": {
      "needs_background": "light"
     },
     "output_type": "display_data"
    }
   ],
   "source": [
    "history_df.plot(y=\"accuracy\")"
   ]
  },
  {
   "cell_type": "markdown",
   "metadata": {},
   "source": [
    "### Explore with adding more nodes in the hidden layers"
   ]
  },
  {
   "cell_type": "code",
   "execution_count": 48,
   "metadata": {},
   "outputs": [
    {
     "name": "stdout",
     "output_type": "stream",
     "text": [
      "Epoch 1/50\n",
      "804/804 [==============================] - 0s 572us/step - loss: 0.5899 - accuracy: 0.7021\n",
      "Epoch 2/50\n",
      "804/804 [==============================] - 0s 558us/step - loss: 0.5558 - accuracy: 0.7266\n",
      "Epoch 3/50\n",
      "804/804 [==============================] - 0s 571us/step - loss: 0.5518 - accuracy: 0.7287\n",
      "Epoch 4/50\n",
      "804/804 [==============================] - 0s 564us/step - loss: 0.5499 - accuracy: 0.7303\n",
      "Epoch 5/50\n",
      "804/804 [==============================] - 0s 564us/step - loss: 0.5488 - accuracy: 0.7318\n",
      "Epoch 6/50\n",
      "804/804 [==============================] - 0s 575us/step - loss: 0.5480 - accuracy: 0.7320\n",
      "Epoch 7/50\n",
      "804/804 [==============================] - 0s 574us/step - loss: 0.5473 - accuracy: 0.7328\n",
      "Epoch 8/50\n",
      "804/804 [==============================] - 0s 577us/step - loss: 0.5467 - accuracy: 0.7330\n",
      "Epoch 9/50\n",
      "804/804 [==============================] - 0s 561us/step - loss: 0.5463 - accuracy: 0.7339\n",
      "Epoch 10/50\n",
      "804/804 [==============================] - 0s 569us/step - loss: 0.5462 - accuracy: 0.7345\n",
      "Epoch 11/50\n",
      "804/804 [==============================] - 0s 565us/step - loss: 0.5455 - accuracy: 0.7348\n",
      "Epoch 12/50\n",
      "804/804 [==============================] - 0s 575us/step - loss: 0.5451 - accuracy: 0.7349\n",
      "Epoch 13/50\n",
      "804/804 [==============================] - 0s 566us/step - loss: 0.5448 - accuracy: 0.7350\n",
      "Epoch 14/50\n",
      "804/804 [==============================] - 0s 568us/step - loss: 0.5444 - accuracy: 0.7348\n",
      "Epoch 15/50\n",
      "804/804 [==============================] - 0s 569us/step - loss: 0.5442 - accuracy: 0.7347\n",
      "Epoch 16/50\n",
      "804/804 [==============================] - 0s 573us/step - loss: 0.5440 - accuracy: 0.7349\n",
      "Epoch 17/50\n",
      "804/804 [==============================] - 0s 571us/step - loss: 0.5439 - accuracy: 0.7354\n",
      "Epoch 18/50\n",
      "804/804 [==============================] - 0s 570us/step - loss: 0.5437 - accuracy: 0.7355\n",
      "Epoch 19/50\n",
      "804/804 [==============================] - 0s 566us/step - loss: 0.5434 - accuracy: 0.7355\n",
      "Epoch 20/50\n",
      "804/804 [==============================] - 0s 583us/step - loss: 0.5433 - accuracy: 0.7355\n",
      "Epoch 21/50\n",
      "804/804 [==============================] - 1s 676us/step - loss: 0.5432 - accuracy: 0.7362\n",
      "Epoch 22/50\n",
      "804/804 [==============================] - 0s 608us/step - loss: 0.5430 - accuracy: 0.7361\n",
      "Epoch 23/50\n",
      "804/804 [==============================] - 0s 575us/step - loss: 0.5427 - accuracy: 0.7360\n",
      "Epoch 24/50\n",
      "804/804 [==============================] - 0s 567us/step - loss: 0.5427 - accuracy: 0.7365\n",
      "Epoch 25/50\n",
      "804/804 [==============================] - 0s 596us/step - loss: 0.5424 - accuracy: 0.7370\n",
      "Epoch 26/50\n",
      "804/804 [==============================] - 0s 594us/step - loss: 0.5424 - accuracy: 0.7369\n",
      "Epoch 27/50\n",
      "804/804 [==============================] - 0s 578us/step - loss: 0.5422 - accuracy: 0.7366\n",
      "Epoch 28/50\n",
      "804/804 [==============================] - 0s 564us/step - loss: 0.5421 - accuracy: 0.7371\n",
      "Epoch 29/50\n",
      "804/804 [==============================] - 0s 619us/step - loss: 0.5421 - accuracy: 0.7365\n",
      "Epoch 30/50\n",
      "804/804 [==============================] - 0s 586us/step - loss: 0.5418 - accuracy: 0.7372\n",
      "Epoch 31/50\n",
      "804/804 [==============================] - 0s 574us/step - loss: 0.5417 - accuracy: 0.7369\n",
      "Epoch 32/50\n",
      "804/804 [==============================] - 0s 566us/step - loss: 0.5417 - accuracy: 0.7373\n",
      "Epoch 33/50\n",
      "804/804 [==============================] - 0s 572us/step - loss: 0.5415 - accuracy: 0.7374\n",
      "Epoch 34/50\n",
      "804/804 [==============================] - 0s 573us/step - loss: 0.5413 - accuracy: 0.7376\n",
      "Epoch 35/50\n",
      "804/804 [==============================] - 0s 575us/step - loss: 0.5413 - accuracy: 0.7374\n",
      "Epoch 36/50\n",
      "804/804 [==============================] - 0s 584us/step - loss: 0.5411 - accuracy: 0.7374\n",
      "Epoch 37/50\n",
      "804/804 [==============================] - 0s 590us/step - loss: 0.5412 - accuracy: 0.7376\n",
      "Epoch 38/50\n",
      "804/804 [==============================] - 0s 572us/step - loss: 0.5410 - accuracy: 0.7378\n",
      "Epoch 39/50\n",
      "804/804 [==============================] - 0s 579us/step - loss: 0.5409 - accuracy: 0.7380\n",
      "Epoch 40/50\n",
      "804/804 [==============================] - 0s 573us/step - loss: 0.5409 - accuracy: 0.7378\n",
      "Epoch 41/50\n",
      "804/804 [==============================] - 0s 574us/step - loss: 0.5408 - accuracy: 0.7381\n",
      "Epoch 42/50\n",
      "804/804 [==============================] - 0s 580us/step - loss: 0.5407 - accuracy: 0.7378\n",
      "Epoch 43/50\n",
      "804/804 [==============================] - 0s 577us/step - loss: 0.5407 - accuracy: 0.7378\n",
      "Epoch 44/50\n",
      "804/804 [==============================] - 0s 580us/step - loss: 0.5405 - accuracy: 0.7378\n",
      "Epoch 45/50\n",
      "804/804 [==============================] - 0s 581us/step - loss: 0.5406 - accuracy: 0.7377\n",
      "Epoch 46/50\n",
      "804/804 [==============================] - 0s 572us/step - loss: 0.5406 - accuracy: 0.7378\n",
      "Epoch 47/50\n",
      "804/804 [==============================] - 0s 575us/step - loss: 0.5403 - accuracy: 0.7379\n",
      "Epoch 48/50\n",
      "804/804 [==============================] - 0s 584us/step - loss: 0.5403 - accuracy: 0.7381\n",
      "Epoch 49/50\n",
      "804/804 [==============================] - 0s 580us/step - loss: 0.5402 - accuracy: 0.7381\n",
      "Epoch 50/50\n",
      "804/804 [==============================] - 0s 590us/step - loss: 0.5402 - accuracy: 0.7383\n",
      "268/268 - 0s - loss: 0.5511 - accuracy: 0.7264\n",
      "Loss: 0.5511284470558167, Accuracy: 0.7264139652252197\n"
     ]
    }
   ],
   "source": [
    "# Define the model - deep neural net\n",
    "number_input_features = len(X_train[0])\n",
    "hidden_nodes_layer1 =  40\n",
    "hidden_nodes_layer2 = 8\n",
    "\n",
    "nn = tf.keras.models.Sequential()\n",
    "\n",
    "# First hidden layer\n",
    "nn.add(\n",
    "    tf.keras.layers.Dense(units=hidden_nodes_layer1, input_dim=number_input_features, activation=\"relu\")\n",
    ")\n",
    "\n",
    "# Second hidden layer\n",
    "nn.add(tf.keras.layers.Dense(units=hidden_nodes_layer2, activation=\"relu\"))\n",
    "\n",
    "# 3rd hidden layer\n",
    "# nn.add(tf.keras.layers.Dense(units=hidden_nodes_layer3, activation=\"relu\"))\n",
    "\n",
    "# Output layer\n",
    "nn.add(tf.keras.layers.Dense(units=1, activation=\"sigmoid\"))\n",
    "\n",
    "# Compile the model\n",
    "nn.compile(loss=\"binary_crossentropy\", optimizer=\"adam\", metrics=[\"accuracy\"])\n",
    "\n",
    "# Train the model\n",
    "fit_model = nn.fit(X_train_scaled,y_train,epochs=50, shuffle=False)\n",
    "\n",
    "# Evaluate the model using the test data\n",
    "model_loss, model_accuracy = nn.evaluate(X_test_scaled,y_test,verbose=2)\n",
    "print(f\"Loss: {model_loss}, Accuracy: {model_accuracy}\")"
   ]
  },
  {
   "cell_type": "markdown",
   "metadata": {},
   "source": [
    "### Explore with adding 3rd hidden layer"
   ]
  },
  {
   "cell_type": "code",
   "execution_count": 49,
   "metadata": {},
   "outputs": [
    {
     "name": "stdout",
     "output_type": "stream",
     "text": [
      "Epoch 1/50\n",
      "804/804 [==============================] - 0s 603us/step - loss: 0.5831 - accuracy: 0.7098\n",
      "Epoch 2/50\n",
      "804/804 [==============================] - 0s 604us/step - loss: 0.5548 - accuracy: 0.7301\n",
      "Epoch 3/50\n",
      "804/804 [==============================] - 0s 602us/step - loss: 0.5518 - accuracy: 0.7304\n",
      "Epoch 4/50\n",
      "804/804 [==============================] - 0s 596us/step - loss: 0.5500 - accuracy: 0.7315\n",
      "Epoch 5/50\n",
      "804/804 [==============================] - 0s 600us/step - loss: 0.5491 - accuracy: 0.7319\n",
      "Epoch 6/50\n",
      "804/804 [==============================] - 0s 602us/step - loss: 0.5485 - accuracy: 0.7323\n",
      "Epoch 7/50\n",
      "804/804 [==============================] - 0s 600us/step - loss: 0.5477 - accuracy: 0.7333\n",
      "Epoch 8/50\n",
      "804/804 [==============================] - 0s 602us/step - loss: 0.5470 - accuracy: 0.7334\n",
      "Epoch 9/50\n",
      "804/804 [==============================] - 0s 601us/step - loss: 0.5466 - accuracy: 0.7339\n",
      "Epoch 10/50\n",
      "804/804 [==============================] - 0s 598us/step - loss: 0.5461 - accuracy: 0.7336\n",
      "Epoch 11/50\n",
      "804/804 [==============================] - 0s 600us/step - loss: 0.5457 - accuracy: 0.7341\n",
      "Epoch 12/50\n",
      "804/804 [==============================] - 0s 602us/step - loss: 0.5453 - accuracy: 0.7341\n",
      "Epoch 13/50\n",
      "804/804 [==============================] - 0s 606us/step - loss: 0.5451 - accuracy: 0.7347\n",
      "Epoch 14/50\n",
      "804/804 [==============================] - 0s 602us/step - loss: 0.5447 - accuracy: 0.7351\n",
      "Epoch 15/50\n",
      "804/804 [==============================] - 0s 607us/step - loss: 0.5444 - accuracy: 0.7359\n",
      "Epoch 16/50\n",
      "804/804 [==============================] - 1s 643us/step - loss: 0.5441 - accuracy: 0.7355\n",
      "Epoch 17/50\n",
      "804/804 [==============================] - 0s 620us/step - loss: 0.5438 - accuracy: 0.7357\n",
      "Epoch 18/50\n",
      "804/804 [==============================] - 1s 625us/step - loss: 0.5437 - accuracy: 0.7358\n",
      "Epoch 19/50\n",
      "804/804 [==============================] - 1s 627us/step - loss: 0.5435 - accuracy: 0.7355\n",
      "Epoch 20/50\n",
      "804/804 [==============================] - 1s 623us/step - loss: 0.5433 - accuracy: 0.7360\n",
      "Epoch 21/50\n",
      "804/804 [==============================] - 1s 633us/step - loss: 0.5430 - accuracy: 0.7363\n",
      "Epoch 22/50\n",
      "804/804 [==============================] - 1s 634us/step - loss: 0.5430 - accuracy: 0.7370\n",
      "Epoch 23/50\n",
      "804/804 [==============================] - 0s 615us/step - loss: 0.5426 - accuracy: 0.7370\n",
      "Epoch 24/50\n",
      "804/804 [==============================] - 0s 606us/step - loss: 0.5427 - accuracy: 0.7372\n",
      "Epoch 25/50\n",
      "804/804 [==============================] - 0s 614us/step - loss: 0.5421 - accuracy: 0.7374\n",
      "Epoch 26/50\n",
      "804/804 [==============================] - 0s 608us/step - loss: 0.5424 - accuracy: 0.7370\n",
      "Epoch 27/50\n",
      "804/804 [==============================] - 0s 605us/step - loss: 0.5419 - accuracy: 0.7369\n",
      "Epoch 28/50\n",
      "804/804 [==============================] - 0s 606us/step - loss: 0.5418 - accuracy: 0.7367\n",
      "Epoch 29/50\n",
      "804/804 [==============================] - 0s 603us/step - loss: 0.5415 - accuracy: 0.7371\n",
      "Epoch 30/50\n",
      "804/804 [==============================] - 0s 595us/step - loss: 0.5415 - accuracy: 0.7368\n",
      "Epoch 31/50\n",
      "804/804 [==============================] - 0s 604us/step - loss: 0.5412 - accuracy: 0.7372\n",
      "Epoch 32/50\n",
      "804/804 [==============================] - 0s 615us/step - loss: 0.5411 - accuracy: 0.7378\n",
      "Epoch 33/50\n",
      "804/804 [==============================] - 1s 649us/step - loss: 0.5408 - accuracy: 0.7377\n",
      "Epoch 34/50\n",
      "804/804 [==============================] - 1s 665us/step - loss: 0.5410 - accuracy: 0.7369\n",
      "Epoch 35/50\n",
      "804/804 [==============================] - 0s 603us/step - loss: 0.5409 - accuracy: 0.7375\n",
      "Epoch 36/50\n",
      "804/804 [==============================] - 0s 610us/step - loss: 0.5408 - accuracy: 0.7374\n",
      "Epoch 37/50\n",
      "804/804 [==============================] - 1s 707us/step - loss: 0.5409 - accuracy: 0.7376\n",
      "Epoch 38/50\n",
      "804/804 [==============================] - 1s 741us/step - loss: 0.5408 - accuracy: 0.7377\n",
      "Epoch 39/50\n",
      "804/804 [==============================] - 1s 754us/step - loss: 0.5406 - accuracy: 0.7377\n",
      "Epoch 40/50\n",
      "804/804 [==============================] - 1s 685us/step - loss: 0.5405 - accuracy: 0.7379\n",
      "Epoch 41/50\n",
      "804/804 [==============================] - 1s 667us/step - loss: 0.5406 - accuracy: 0.7383\n",
      "Epoch 42/50\n",
      "804/804 [==============================] - 1s 690us/step - loss: 0.5404 - accuracy: 0.7379\n",
      "Epoch 43/50\n",
      "804/804 [==============================] - 1s 651us/step - loss: 0.5402 - accuracy: 0.7376\n",
      "Epoch 44/50\n",
      "804/804 [==============================] - 0s 608us/step - loss: 0.5400 - accuracy: 0.7381\n",
      "Epoch 45/50\n",
      "804/804 [==============================] - 0s 605us/step - loss: 0.5401 - accuracy: 0.7385\n",
      "Epoch 46/50\n",
      "804/804 [==============================] - 0s 609us/step - loss: 0.5398 - accuracy: 0.7385\n",
      "Epoch 47/50\n",
      "804/804 [==============================] - 0s 610us/step - loss: 0.5398 - accuracy: 0.7386\n",
      "Epoch 48/50\n",
      "804/804 [==============================] - 0s 610us/step - loss: 0.5399 - accuracy: 0.7378\n",
      "Epoch 49/50\n",
      "804/804 [==============================] - 0s 610us/step - loss: 0.5398 - accuracy: 0.7383\n",
      "Epoch 50/50\n",
      "804/804 [==============================] - 0s 608us/step - loss: 0.5397 - accuracy: 0.7382\n",
      "268/268 - 0s - loss: 0.5518 - accuracy: 0.7266\n",
      "Loss: 0.5517718195915222, Accuracy: 0.7266472578048706\n"
     ]
    }
   ],
   "source": [
    "# Define the model - deep neural net\n",
    "number_input_features = len(X_train[0])\n",
    "hidden_nodes_layer1 =  40\n",
    "hidden_nodes_layer2 = 8\n",
    "hidden_nodes_layer3 = 4\n",
    "\n",
    "nn = tf.keras.models.Sequential()\n",
    "\n",
    "# First hidden layer\n",
    "nn.add(\n",
    "    tf.keras.layers.Dense(units=hidden_nodes_layer1, input_dim=number_input_features, activation=\"relu\")\n",
    ")\n",
    "\n",
    "# Second hidden layer\n",
    "nn.add(tf.keras.layers.Dense(units=hidden_nodes_layer2, activation=\"relu\"))\n",
    "\n",
    "# 3rd hidden layer\n",
    "nn.add(tf.keras.layers.Dense(units=hidden_nodes_layer3, activation=\"relu\"))\n",
    "\n",
    "# Output layer\n",
    "nn.add(tf.keras.layers.Dense(units=1, activation=\"sigmoid\"))\n",
    "\n",
    "# Compile the model\n",
    "nn.compile(loss=\"binary_crossentropy\", optimizer=\"adam\", metrics=[\"accuracy\"])\n",
    "\n",
    "# Train the model\n",
    "fit_model = nn.fit(X_train_scaled,y_train,epochs=50, shuffle=False)\n",
    "\n",
    "# Evaluate the model using the test data\n",
    "model_loss, model_accuracy = nn.evaluate(X_test_scaled,y_test,verbose=2)\n",
    "print(f\"Loss: {model_loss}, Accuracy: {model_accuracy}\")"
   ]
  },
  {
   "cell_type": "code",
   "execution_count": null,
   "metadata": {},
   "outputs": [],
   "source": []
  },
  {
   "cell_type": "markdown",
   "metadata": {},
   "source": [
    "### SVM"
   ]
  },
  {
   "cell_type": "code",
   "execution_count": 50,
   "metadata": {},
   "outputs": [
    {
     "name": "stdout",
     "output_type": "stream",
     "text": [
      " SVM model accuracy: 0.720\n"
     ]
    }
   ],
   "source": [
    "from sklearn.svm import SVC\n",
    "# Create the SVM model\n",
    "svm = SVC(kernel='linear')\n",
    "\n",
    "# Train the model\n",
    "svm.fit(X_train_scaled, y_train)\n",
    "\n",
    "# Evaluate the model\n",
    "y_pred = svm.predict(X_test_scaled)\n",
    "print(f\" SVM model accuracy: {accuracy_score(y_test,y_pred):.3f}\")"
   ]
  }
 ],
 "metadata": {
  "kernelspec": {
   "display_name": "Python 3",
   "language": "python",
   "name": "python3"
  },
  "language_info": {
   "codemirror_mode": {
    "name": "ipython",
    "version": 3
   },
   "file_extension": ".py",
   "mimetype": "text/x-python",
   "name": "python",
   "nbconvert_exporter": "python",
   "pygments_lexer": "ipython3",
   "version": "3.7.6"
  }
 },
 "nbformat": 4,
 "nbformat_minor": 2
}
